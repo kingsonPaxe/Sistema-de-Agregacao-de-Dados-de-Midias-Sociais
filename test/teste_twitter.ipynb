{
 "cells": [
  {
   "cell_type": "markdown",
   "id": "27fcff6b",
   "metadata": {},
   "source": [
    "# **Desenvolvimento de um Sistema de Agregação de Dados de Mídias Sociais**"
   ]
  },
  {
   "cell_type": "markdown",
   "id": "94086c1d",
   "metadata": {},
   "source": [
    "**Objectivo:** Introduzir a interação com APIs, o armazenamento em bancos de \n",
    "dados NoSQL"
   ]
  },
  {
   "cell_type": "code",
   "execution_count": 1,
   "id": "31617f35",
   "metadata": {},
   "outputs": [
    {
     "name": "stdout",
     "output_type": "stream",
     "text": [
      "AAAAAAAAAAAAAAAAAAAAAF0F2QEAAAAAE86URv4qyCFy3ij5DP%2B%2FcVuas4c%3Dt6pS6XqeNfEiAgVzecKGuzrHUs8g1EthcEimiUwq7xBWSzPn0O\n"
     ]
    }
   ],
   "source": [
    "import pandas as pd\n",
    "import requests\n",
    "import os\n",
    "from dotenv import load_dotenv\n",
    "import pymongo\n",
    "\n",
    "\n",
    "token = os.getenv('bear_token')\n",
    "load_dotenv()\n",
    "print(token)"
   ]
  },
  {
   "cell_type": "markdown",
   "id": "9205f837",
   "metadata": {},
   "source": [
    "# **Extrat(Twitter)**"
   ]
  },
  {
   "cell_type": "code",
   "execution_count": 2,
   "id": "38c4cedf",
   "metadata": {},
   "outputs": [
    {
     "name": "stdout",
     "output_type": "stream",
     "text": [
      "429\n",
      "{'title': 'Too Many Requests', 'detail': 'Too Many Requests', 'type': 'about:blank', 'status': 429}\n"
     ]
    }
   ],
   "source": [
    "# configurando os parametros e o cabeçalho\n",
    "headers = {\n",
    "    'Authorization': f'Bearer {token}'\n",
    "}\n",
    "params = {\n",
    "    \"query\": \"Linguagem Python\",\n",
    "    \"max_results\": 10,\n",
    "    \"tweet.fields\": \"created_at,public_metrics,author_id\",\n",
    "    \"expansions\": \"author_id\",\n",
    "    \"user.fields\": \"username,name\"\n",
    "}\n",
    "\n",
    "url = \"https://api.twitter.com/2/tweets/search/recent\"\n",
    "response = requests.get(url, headers=headers, params=params)\n",
    "print(response.status_code)\n",
    "response = response.json()\n",
    "print(response)"
   ]
  },
  {
   "cell_type": "code",
   "execution_count": 3,
   "id": "b6d7807b",
   "metadata": {},
   "outputs": [
    {
     "data": {
      "text/plain": [
       "dict_keys(['title', 'detail', 'type', 'status'])"
      ]
     },
     "execution_count": 3,
     "metadata": {},
     "output_type": "execute_result"
    }
   ],
   "source": [
    "response.keys()"
   ]
  },
  {
   "cell_type": "code",
   "execution_count": 4,
   "id": "1cf970e1",
   "metadata": {},
   "outputs": [
    {
     "ename": "KeyError",
     "evalue": "'data'",
     "output_type": "error",
     "traceback": [
      "\u001b[31m---------------------------------------------------------------------------\u001b[39m",
      "\u001b[31mKeyError\u001b[39m                                  Traceback (most recent call last)",
      "\u001b[36mCell\u001b[39m\u001b[36m \u001b[39m\u001b[32mIn[4]\u001b[39m\u001b[32m, line 1\u001b[39m\n\u001b[32m----> \u001b[39m\u001b[32m1\u001b[39m \u001b[38;5;28mtype\u001b[39m(\u001b[43mresponse\u001b[49m\u001b[43m[\u001b[49m\u001b[33;43m'\u001b[39;49m\u001b[33;43mdata\u001b[39;49m\u001b[33;43m'\u001b[39;49m\u001b[43m]\u001b[49m)\n",
      "\u001b[31mKeyError\u001b[39m: 'data'"
     ]
    }
   ],
   "source": [
    "type(response['data'])"
   ]
  },
  {
   "cell_type": "markdown",
   "id": "587b2465",
   "metadata": {},
   "source": [
    "# **Transform(Twitter)**"
   ]
  },
  {
   "cell_type": "code",
   "execution_count": 6,
   "id": "82edf130",
   "metadata": {},
   "outputs": [
    {
     "ename": "KeyError",
     "evalue": "'includes'",
     "output_type": "error",
     "traceback": [
      "\u001b[31m---------------------------------------------------------------------------\u001b[39m",
      "\u001b[31mKeyError\u001b[39m                                  Traceback (most recent call last)",
      "\u001b[36mCell\u001b[39m\u001b[36m \u001b[39m\u001b[32mIn[6]\u001b[39m\u001b[32m, line 1\u001b[39m\n\u001b[32m----> \u001b[39m\u001b[32m1\u001b[39m autores = \u001b[43mresponse\u001b[49m\u001b[43m[\u001b[49m\u001b[33;43m'\u001b[39;49m\u001b[33;43mincludes\u001b[39;49m\u001b[33;43m'\u001b[39;49m\u001b[43m]\u001b[49m[\u001b[33m'\u001b[39m\u001b[33musers\u001b[39m\u001b[33m'\u001b[39m]\n\u001b[32m      2\u001b[39m autores_df = pd.DataFrame(autores)\n\u001b[32m      3\u001b[39m tweets = response[\u001b[33m'\u001b[39m\u001b[33mdata\u001b[39m\u001b[33m'\u001b[39m]\n",
      "\u001b[31mKeyError\u001b[39m: 'includes'"
     ]
    }
   ],
   "source": [
    "autores = response['includes']['users']\n",
    "autores_df = pd.DataFrame(autores)\n",
    "tweets = response['data']\n",
    "tweets_df = pd.DataFrame(tweets)\n",
    "tweets_df = tweets_df.merge(autores_df, left_on='author_id', right_on='id', how='left')\n",
    "tweets_df = tweets_df[['created_at', 'text', 'public_metrics', 'username', 'name']]\n",
    "tweets_df['retweet_count'] = tweets_df['public_metrics'].apply(lambda x: x['retweet_count'])\n",
    "tweets_df['reply_count'] = tweets_df['public_metrics'].apply(lambda x: x['reply_count'])\n",
    "tweets_df['like_count'] = tweets_df['public_metrics'].apply(lambda x: x['like_count'])\n",
    "tweets_df['quote_count'] = tweets_df['public_metrics'].apply(lambda x: x['quote_count'])\n",
    "tweets_df = tweets_df.drop(columns=['public_metrics'])\n",
    "tweets_df['created_at'] = pd.to_datetime(tweets_df['created_at'])\n",
    "tweets_df = tweets_df.sort_values(by='created_at', ascending=False)\n",
    "tweets_df = tweets_df.reset_index(drop=True)\n",
    "tweets_df.head()"
   ]
  },
  {
   "cell_type": "code",
   "execution_count": null,
   "id": "264a0fe3",
   "metadata": {},
   "outputs": [
    {
     "data": {
      "text/plain": [
       "[{'author_id': '1264606443468140545',\n",
       "  'public_metrics': {'retweet_count': 0,\n",
       "   'reply_count': 1,\n",
       "   'like_count': 0,\n",
       "   'quote_count': 0,\n",
       "   'bookmark_count': 0,\n",
       "   'impression_count': 38},\n",
       "  'text': 'Ainda não tanko que aquele cara meteu um \"é tipo um aluno de biologia não saber uma célula\" porque eu \"não sabia\" python, sendo que qualquer linguagem de programação é claramente um condicionamento e as células na computação são os componentes de um computador',\n",
       "  'created_at': '2025-06-11T19:34:41.000Z',\n",
       "  'edit_history_tweet_ids': ['1932884210127388818'],\n",
       "  'id': '1932884210127388818'},\n",
       " {'author_id': '1160702238043574275',\n",
       "  'public_metrics': {'retweet_count': 0,\n",
       "   'reply_count': 0,\n",
       "   'like_count': 0,\n",
       "   'quote_count': 0,\n",
       "   'bookmark_count': 0,\n",
       "   'impression_count': 21},\n",
       "  'text': 'engolindo meu preconceito, python realmente é uma linguagem muito foda',\n",
       "  'created_at': '2025-06-11T18:58:51.000Z',\n",
       "  'edit_history_tweet_ids': ['1932875193526952285'],\n",
       "  'id': '1932875193526952285'},\n",
       " {'author_id': '1371141048286732290',\n",
       "  'public_metrics': {'retweet_count': 0,\n",
       "   'reply_count': 0,\n",
       "   'like_count': 2,\n",
       "   'quote_count': 0,\n",
       "   'bookmark_count': 0,\n",
       "   'impression_count': 56},\n",
       "  'text': 'Eu vi um querido com o uniforme do curso dele hoje e tinha o símbolo do python na camisa, eu achei tão fofinho isso... Já pensou se fosse tipo as casas de Hogwarts e todo mundo tivesse que usar a farda com símbolo da linguagem de programação que se especializou?!',\n",
       "  'created_at': '2025-06-11T18:23:42.000Z',\n",
       "  'edit_history_tweet_ids': ['1932866346473398707'],\n",
       "  'id': '1932866346473398707'},\n",
       " {'author_id': '1299498504675627009',\n",
       "  'public_metrics': {'retweet_count': 0,\n",
       "   'reply_count': 1,\n",
       "   'like_count': 2,\n",
       "   'quote_count': 0,\n",
       "   'bookmark_count': 0,\n",
       "   'impression_count': 10},\n",
       "  'text': \"@W1N_Nerd @marcioportes Não estou convencido que seja o algoritmo. Já criei alternativas pra superar as limitações da linguagem que o Profit usa. Existem 'particularidades' na programação da execução da ordem que não estou gostando. Meu plano é migrar pra Python integrado com MetaTrader e comparar.\",\n",
       "  'created_at': '2025-06-11T18:00:08.000Z',\n",
       "  'edit_history_tweet_ids': ['1932860415718920424'],\n",
       "  'id': '1932860415718920424'},\n",
       " {'author_id': '1601923271880019969',\n",
       "  'public_metrics': {'retweet_count': 0,\n",
       "   'reply_count': 0,\n",
       "   'like_count': 0,\n",
       "   'quote_count': 0,\n",
       "   'bookmark_count': 0,\n",
       "   'impression_count': 14},\n",
       "  'text': '- To estudando programação haha logo to trabalhando com você.\\n- Sério? e que linguagem?\\n- Python, pra mexer com power bi https://t.co/ryuEVqaFdM',\n",
       "  'created_at': '2025-06-11T12:02:42.000Z',\n",
       "  'edit_history_tweet_ids': ['1932770463492575618'],\n",
       "  'id': '1932770463492575618'},\n",
       " {'author_id': '1278740349566017543',\n",
       "  'public_metrics': {'retweet_count': 0,\n",
       "   'reply_count': 0,\n",
       "   'like_count': 1,\n",
       "   'quote_count': 0,\n",
       "   'bookmark_count': 0,\n",
       "   'impression_count': 36},\n",
       "  'text': 'meu lado ahgase é quando vejo python é imaginar que tão falando da música dos meninos e não uma linguagem de programação',\n",
       "  'created_at': '2025-06-11T02:19:11.000Z',\n",
       "  'edit_history_tweet_ids': ['1932623616954265862'],\n",
       "  'id': '1932623616954265862'},\n",
       " {'author_id': '1755385867554680832',\n",
       "  'public_metrics': {'retweet_count': 0,\n",
       "   'reply_count': 1,\n",
       "   'like_count': 0,\n",
       "   'quote_count': 0,\n",
       "   'bookmark_count': 0,\n",
       "   'impression_count': 20},\n",
       "  'text': '@nuntinteligente Eu nem sei, não fiz nada, só fui pedindo, única coisa que aprendi é sobre as chaves API e é em python, me incentivou a aprender a linguagem, daí tô fazendo aula de internet mesmo',\n",
       "  'created_at': '2025-06-11T00:10:46.000Z',\n",
       "  'edit_history_tweet_ids': ['1932591299670180181'],\n",
       "  'id': '1932591299670180181'},\n",
       " {'author_id': '1421815220213796884',\n",
       "  'public_metrics': {'retweet_count': 1,\n",
       "   'reply_count': 0,\n",
       "   'like_count': 0,\n",
       "   'quote_count': 0,\n",
       "   'bookmark_count': 0,\n",
       "   'impression_count': 0},\n",
       "  'text': 'RT @devgaucho: o pessoal confunde muito framework com linguagem 🫠 só por que a linguagem tem UM framework bom não significa que a linguagem…',\n",
       "  'created_at': '2025-06-10T21:08:20.000Z',\n",
       "  'edit_history_tweet_ids': ['1932545390991323626'],\n",
       "  'id': '1932545390991323626'},\n",
       " {'author_id': '1590786931453034501',\n",
       "  'public_metrics': {'retweet_count': 1,\n",
       "   'reply_count': 1,\n",
       "   'like_count': 1,\n",
       "   'quote_count': 0,\n",
       "   'bookmark_count': 0,\n",
       "   'impression_count': 174},\n",
       "  'text': 'o pessoal confunde muito framework com linguagem 🫠 só por que a linguagem tem UM framework bom não significa que a linguagem PURA seja boa pra aquela finalidade\\n\\nphp puro é uma exceção pois ele é ÓTIMO pra web. quer testar? faz um site em js, em python ou em java puro e compare',\n",
       "  'created_at': '2025-06-10T21:05:37.000Z',\n",
       "  'edit_history_tweet_ids': ['1932544705931473034'],\n",
       "  'id': '1932544705931473034'},\n",
       " {'author_id': '1274055423176462339',\n",
       "  'public_metrics': {'retweet_count': 0,\n",
       "   'reply_count': 0,\n",
       "   'like_count': 0,\n",
       "   'quote_count': 0,\n",
       "   'bookmark_count': 0,\n",
       "   'impression_count': 45},\n",
       "  'text': 'o negócio começou em C++, mas ontem fizemos em python, hoje em java... e amanhã? não sabemos \\n\\nsimplesmente 2 reais ou uma linguagem misteriosa',\n",
       "  'created_at': '2025-06-10T21:01:19.000Z',\n",
       "  'edit_history_tweet_ids': ['1932543621812609217'],\n",
       "  'id': '1932543621812609217'}]"
      ]
     },
     "execution_count": 29,
     "metadata": {},
     "output_type": "execute_result"
    }
   ],
   "source": [
    "response['data']"
   ]
  },
  {
   "cell_type": "code",
   "execution_count": null,
   "id": "215993ac",
   "metadata": {},
   "outputs": [
    {
     "data": {
      "text/plain": [
       "[{'id': '1264606443468140545', 'name': 'Sean.py 🔞', 'username': 'misosccp'},\n",
       " {'id': '1160702238043574275', 'name': 'Talis ᶜʳᶠ', 'username': 'blackttpx'},\n",
       " {'id': '1371141048286732290',\n",
       "  'name': '🌻 Floralzito 🌻',\n",
       "  'username': 'Floral_Ghost0'},\n",
       " {'id': '1299498504675627009',\n",
       "  'name': 'Limeinhalf – nns/acc',\n",
       "  'username': 'limeinhalf'},\n",
       " {'id': '1601923271880019969',\n",
       "  'name': 'Igor.js',\n",
       "  'username': 'Igaosacanagens'},\n",
       " {'id': '1278740349566017543', 'name': 'ؘ', 'username': 'jinyfilms'},\n",
       " {'id': '1755385867554680832',\n",
       "  'name': '自虐Arvesiak✨🩸',\n",
       "  'username': 'Cannibalcel_'},\n",
       " {'id': '1421815220213796884', 'name': '#bolhadev', 'username': 'BolhaDevs'},\n",
       " {'id': '1590786931453034501', 'name': 'Gautcho', 'username': 'devgaucho'},\n",
       " {'id': '1274055423176462339', 'name': 'ॐ', 'username': 'alftersex'}]"
      ]
     },
     "execution_count": 23,
     "metadata": {},
     "output_type": "execute_result"
    }
   ],
   "source": [
    "response['includes']['users']"
   ]
  },
  {
   "cell_type": "code",
   "execution_count": null,
   "id": "64b97ba2",
   "metadata": {},
   "outputs": [],
   "source": [
    "name = [autores['name'] for autores in autores]\n",
    "username = [autores['username'] for autores in autores]"
   ]
  },
  {
   "cell_type": "code",
   "execution_count": null,
   "id": "9e39d275",
   "metadata": {},
   "outputs": [
    {
     "data": {
      "text/plain": [
       "[{'Nome': 'Sean.py 🔞',\n",
       "  'Username': 'misosccp',\n",
       "  'Texto': 'Ainda não tanko que aquele cara meteu um \"é tipo um aluno de biologia não saber uma célula\" porque eu \"não sabia\" python, sendo que qualquer linguagem de programação é claramente um condicionamento e as células na computação são os componentes de um computador',\n",
       "  'Numero_Retweets': 0,\n",
       "  'Numero_likes': 0,\n",
       "  'Data da criação': '2025-06-11T19:34:41.000Z'},\n",
       " {'Nome': 'Talis ᶜʳᶠ',\n",
       "  'Username': 'blackttpx',\n",
       "  'Texto': 'engolindo meu preconceito, python realmente é uma linguagem muito foda',\n",
       "  'Numero_Retweets': 0,\n",
       "  'Numero_likes': 0,\n",
       "  'Data da criação': '2025-06-11T18:58:51.000Z'},\n",
       " {'Nome': '🌻 Floralzito 🌻',\n",
       "  'Username': 'Floral_Ghost0',\n",
       "  'Texto': 'Eu vi um querido com o uniforme do curso dele hoje e tinha o símbolo do python na camisa, eu achei tão fofinho isso... Já pensou se fosse tipo as casas de Hogwarts e todo mundo tivesse que usar a farda com símbolo da linguagem de programação que se especializou?!',\n",
       "  'Numero_Retweets': 0,\n",
       "  'Numero_likes': 2,\n",
       "  'Data da criação': '2025-06-11T18:23:42.000Z'},\n",
       " {'Nome': 'Limeinhalf – nns/acc',\n",
       "  'Username': 'limeinhalf',\n",
       "  'Texto': \"@W1N_Nerd @marcioportes Não estou convencido que seja o algoritmo. Já criei alternativas pra superar as limitações da linguagem que o Profit usa. Existem 'particularidades' na programação da execução da ordem que não estou gostando. Meu plano é migrar pra Python integrado com MetaTrader e comparar.\",\n",
       "  'Numero_Retweets': 0,\n",
       "  'Numero_likes': 2,\n",
       "  'Data da criação': '2025-06-11T18:00:08.000Z'},\n",
       " {'Nome': 'Igor.js',\n",
       "  'Username': 'Igaosacanagens',\n",
       "  'Texto': '- To estudando programação haha logo to trabalhando com você.\\n- Sério? e que linguagem?\\n- Python, pra mexer com power bi https://t.co/ryuEVqaFdM',\n",
       "  'Numero_Retweets': 0,\n",
       "  'Numero_likes': 0,\n",
       "  'Data da criação': '2025-06-11T12:02:42.000Z'},\n",
       " {'Nome': 'ؘ',\n",
       "  'Username': 'jinyfilms',\n",
       "  'Texto': 'meu lado ahgase é quando vejo python é imaginar que tão falando da música dos meninos e não uma linguagem de programação',\n",
       "  'Numero_Retweets': 0,\n",
       "  'Numero_likes': 1,\n",
       "  'Data da criação': '2025-06-11T02:19:11.000Z'},\n",
       " {'Nome': '自虐Arvesiak✨🩸',\n",
       "  'Username': 'Cannibalcel_',\n",
       "  'Texto': '@nuntinteligente Eu nem sei, não fiz nada, só fui pedindo, única coisa que aprendi é sobre as chaves API e é em python, me incentivou a aprender a linguagem, daí tô fazendo aula de internet mesmo',\n",
       "  'Numero_Retweets': 0,\n",
       "  'Numero_likes': 0,\n",
       "  'Data da criação': '2025-06-11T00:10:46.000Z'},\n",
       " {'Nome': '#bolhadev',\n",
       "  'Username': 'BolhaDevs',\n",
       "  'Texto': 'RT @devgaucho: o pessoal confunde muito framework com linguagem 🫠 só por que a linguagem tem UM framework bom não significa que a linguagem…',\n",
       "  'Numero_Retweets': 1,\n",
       "  'Numero_likes': 0,\n",
       "  'Data da criação': '2025-06-10T21:08:20.000Z'},\n",
       " {'Nome': 'Gautcho',\n",
       "  'Username': 'devgaucho',\n",
       "  'Texto': 'o pessoal confunde muito framework com linguagem 🫠 só por que a linguagem tem UM framework bom não significa que a linguagem PURA seja boa pra aquela finalidade\\n\\nphp puro é uma exceção pois ele é ÓTIMO pra web. quer testar? faz um site em js, em python ou em java puro e compare',\n",
       "  'Numero_Retweets': 1,\n",
       "  'Numero_likes': 1,\n",
       "  'Data da criação': '2025-06-10T21:05:37.000Z'},\n",
       " {'Nome': 'ॐ',\n",
       "  'Username': 'alftersex',\n",
       "  'Texto': 'o negócio começou em C++, mas ontem fizemos em python, hoje em java... e amanhã? não sabemos \\n\\nsimplesmente 2 reais ou uma linguagem misteriosa',\n",
       "  'Numero_Retweets': 0,\n",
       "  'Numero_likes': 0,\n",
       "  'Data da criação': '2025-06-10T21:01:19.000Z'}]"
      ]
     },
     "execution_count": 7,
     "metadata": {},
     "output_type": "execute_result"
    }
   ],
   "source": [
    "data_transform = []\n",
    "dados = response['data']\n",
    "show_index = 0\n",
    "for data in dados:\n",
    "    id = data['id']\n",
    "    texto = data['text']\n",
    "    numero_retweets = data['public_metrics']['retweet_count']\n",
    "    numero_likes = data['public_metrics']['like_count']\n",
    "    criado_em = data['created_at']\n",
    "    ID_autor = data['author_id']\n",
    "    data_transform.append(\n",
    "        {\n",
    "            # 'ID': id,\n",
    "            'Nome': name[show_index],\n",
    "            'Username': username[show_index],\n",
    "            'Texto': texto,\n",
    "            'Numero_Retweets': numero_retweets,\n",
    "            'Numero_likes': numero_likes,\n",
    "            'Data da criação': criado_em\n",
    "            # 'ID_author': ID_autor\n",
    "        }\n",
    "    )\n",
    "\n",
    "    show_index += 1\n",
    "data_transform"
   ]
  },
  {
   "cell_type": "code",
   "execution_count": null,
   "id": "ba5f7c9b",
   "metadata": {},
   "outputs": [
    {
     "data": {
      "text/html": [
       "<div>\n",
       "<style scoped>\n",
       "    .dataframe tbody tr th:only-of-type {\n",
       "        vertical-align: middle;\n",
       "    }\n",
       "\n",
       "    .dataframe tbody tr th {\n",
       "        vertical-align: top;\n",
       "    }\n",
       "\n",
       "    .dataframe thead th {\n",
       "        text-align: right;\n",
       "    }\n",
       "</style>\n",
       "<table border=\"1\" class=\"dataframe\">\n",
       "  <thead>\n",
       "    <tr style=\"text-align: right;\">\n",
       "      <th></th>\n",
       "      <th>Nome</th>\n",
       "      <th>Username</th>\n",
       "      <th>Texto</th>\n",
       "      <th>Numero_Retweets</th>\n",
       "      <th>Numero_likes</th>\n",
       "      <th>Data da criação</th>\n",
       "    </tr>\n",
       "  </thead>\n",
       "  <tbody>\n",
       "    <tr>\n",
       "      <th>0</th>\n",
       "      <td>Sean.py 🔞</td>\n",
       "      <td>misosccp</td>\n",
       "      <td>Ainda não tanko que aquele cara meteu um \"é ti...</td>\n",
       "      <td>0</td>\n",
       "      <td>0</td>\n",
       "      <td>2025-06-11T19:34:41.000Z</td>\n",
       "    </tr>\n",
       "    <tr>\n",
       "      <th>1</th>\n",
       "      <td>Talis ᶜʳᶠ</td>\n",
       "      <td>blackttpx</td>\n",
       "      <td>engolindo meu preconceito, python realmente é ...</td>\n",
       "      <td>0</td>\n",
       "      <td>0</td>\n",
       "      <td>2025-06-11T18:58:51.000Z</td>\n",
       "    </tr>\n",
       "    <tr>\n",
       "      <th>2</th>\n",
       "      <td>🌻 Floralzito 🌻</td>\n",
       "      <td>Floral_Ghost0</td>\n",
       "      <td>Eu vi um querido com o uniforme do curso dele ...</td>\n",
       "      <td>0</td>\n",
       "      <td>2</td>\n",
       "      <td>2025-06-11T18:23:42.000Z</td>\n",
       "    </tr>\n",
       "    <tr>\n",
       "      <th>3</th>\n",
       "      <td>Limeinhalf – nns/acc</td>\n",
       "      <td>limeinhalf</td>\n",
       "      <td>@W1N_Nerd @marcioportes Não estou convencido q...</td>\n",
       "      <td>0</td>\n",
       "      <td>2</td>\n",
       "      <td>2025-06-11T18:00:08.000Z</td>\n",
       "    </tr>\n",
       "    <tr>\n",
       "      <th>4</th>\n",
       "      <td>Igor.js</td>\n",
       "      <td>Igaosacanagens</td>\n",
       "      <td>- To estudando programação haha logo to trabal...</td>\n",
       "      <td>0</td>\n",
       "      <td>0</td>\n",
       "      <td>2025-06-11T12:02:42.000Z</td>\n",
       "    </tr>\n",
       "    <tr>\n",
       "      <th>5</th>\n",
       "      <td>ؘ</td>\n",
       "      <td>jinyfilms</td>\n",
       "      <td>meu lado ahgase é quando vejo python é imagina...</td>\n",
       "      <td>0</td>\n",
       "      <td>1</td>\n",
       "      <td>2025-06-11T02:19:11.000Z</td>\n",
       "    </tr>\n",
       "    <tr>\n",
       "      <th>6</th>\n",
       "      <td>自虐Arvesiak✨🩸</td>\n",
       "      <td>Cannibalcel_</td>\n",
       "      <td>@nuntinteligente Eu nem sei, não fiz nada, só ...</td>\n",
       "      <td>0</td>\n",
       "      <td>0</td>\n",
       "      <td>2025-06-11T00:10:46.000Z</td>\n",
       "    </tr>\n",
       "    <tr>\n",
       "      <th>7</th>\n",
       "      <td>#bolhadev</td>\n",
       "      <td>BolhaDevs</td>\n",
       "      <td>RT @devgaucho: o pessoal confunde muito framew...</td>\n",
       "      <td>1</td>\n",
       "      <td>0</td>\n",
       "      <td>2025-06-10T21:08:20.000Z</td>\n",
       "    </tr>\n",
       "    <tr>\n",
       "      <th>8</th>\n",
       "      <td>Gautcho</td>\n",
       "      <td>devgaucho</td>\n",
       "      <td>o pessoal confunde muito framework com linguag...</td>\n",
       "      <td>1</td>\n",
       "      <td>1</td>\n",
       "      <td>2025-06-10T21:05:37.000Z</td>\n",
       "    </tr>\n",
       "    <tr>\n",
       "      <th>9</th>\n",
       "      <td>ॐ</td>\n",
       "      <td>alftersex</td>\n",
       "      <td>o negócio começou em C++, mas ontem fizemos em...</td>\n",
       "      <td>0</td>\n",
       "      <td>0</td>\n",
       "      <td>2025-06-10T21:01:19.000Z</td>\n",
       "    </tr>\n",
       "  </tbody>\n",
       "</table>\n",
       "</div>"
      ],
      "text/plain": [
       "                   Nome        Username  \\\n",
       "0             Sean.py 🔞        misosccp   \n",
       "1             Talis ᶜʳᶠ       blackttpx   \n",
       "2        🌻 Floralzito 🌻   Floral_Ghost0   \n",
       "3  Limeinhalf – nns/acc      limeinhalf   \n",
       "4               Igor.js  Igaosacanagens   \n",
       "5                     ؘ       jinyfilms   \n",
       "6          自虐Arvesiak✨🩸    Cannibalcel_   \n",
       "7             #bolhadev       BolhaDevs   \n",
       "8               Gautcho       devgaucho   \n",
       "9                     ॐ       alftersex   \n",
       "\n",
       "                                               Texto  Numero_Retweets  \\\n",
       "0  Ainda não tanko que aquele cara meteu um \"é ti...                0   \n",
       "1  engolindo meu preconceito, python realmente é ...                0   \n",
       "2  Eu vi um querido com o uniforme do curso dele ...                0   \n",
       "3  @W1N_Nerd @marcioportes Não estou convencido q...                0   \n",
       "4  - To estudando programação haha logo to trabal...                0   \n",
       "5  meu lado ahgase é quando vejo python é imagina...                0   \n",
       "6  @nuntinteligente Eu nem sei, não fiz nada, só ...                0   \n",
       "7  RT @devgaucho: o pessoal confunde muito framew...                1   \n",
       "8  o pessoal confunde muito framework com linguag...                1   \n",
       "9  o negócio começou em C++, mas ontem fizemos em...                0   \n",
       "\n",
       "   Numero_likes           Data da criação  \n",
       "0             0  2025-06-11T19:34:41.000Z  \n",
       "1             0  2025-06-11T18:58:51.000Z  \n",
       "2             2  2025-06-11T18:23:42.000Z  \n",
       "3             2  2025-06-11T18:00:08.000Z  \n",
       "4             0  2025-06-11T12:02:42.000Z  \n",
       "5             1  2025-06-11T02:19:11.000Z  \n",
       "6             0  2025-06-11T00:10:46.000Z  \n",
       "7             0  2025-06-10T21:08:20.000Z  \n",
       "8             1  2025-06-10T21:05:37.000Z  \n",
       "9             0  2025-06-10T21:01:19.000Z  "
      ]
     },
     "execution_count": 8,
     "metadata": {},
     "output_type": "execute_result"
    }
   ],
   "source": [
    "df = pd.DataFrame(data_transform)\n",
    "df"
   ]
  }
 ],
 "metadata": {
  "kernelspec": {
   "display_name": "venv",
   "language": "python",
   "name": "python3"
  },
  "language_info": {
   "codemirror_mode": {
    "name": "ipython",
    "version": 3
   },
   "file_extension": ".py",
   "mimetype": "text/x-python",
   "name": "python",
   "nbconvert_exporter": "python",
   "pygments_lexer": "ipython3",
   "version": "3.13.3"
  }
 },
 "nbformat": 4,
 "nbformat_minor": 5
}
